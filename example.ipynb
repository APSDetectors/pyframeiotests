{
 "cells": [
  {
   "cell_type": "code",
   "execution_count": 1,
   "metadata": {},
   "outputs": [],
   "source": [
    "%load_ext autoreload\n",
    "%autoreload 2"
   ]
  },
  {
   "cell_type": "code",
   "execution_count": 2,
   "metadata": {},
   "outputs": [],
   "source": [
    "import time\n",
    "from queue import Queue\n",
    "\n",
    "import numpy as np\n",
    "\n",
    "# Will work if PYTHONPATH includes \".\" (current directory)\n",
    "from pyframeiotests.framesinks import *\n",
    "from pyframeiotests.framesources import *"
   ]
  },
  {
   "cell_type": "code",
   "execution_count": 3,
   "metadata": {},
   "outputs": [],
   "source": [
    "SHAPE = (1024, 1024)\n",
    "NUMBER = 1000\n",
    "DTYPE = np.uint16\n",
    "\n",
    "q = Queue(maxsize=1000)"
   ]
  },
  {
   "cell_type": "code",
   "execution_count": 4,
   "metadata": {},
   "outputs": [
    {
     "name": "stdout",
     "output_type": "stream",
     "text": [
      "NullFrameSink: Time: 0.08278223127126694\n",
      "NpzFrameSink: Time: 9.098718453198671\n",
      "H5PyFrameSink: Time: 1.9712308757007122\n",
      "ZarrFrameSink: Time: 1.2047902718186378\n",
      "ZarrMTFrameSink: Time: 0.33728638105094433\n"
     ]
    }
   ],
   "source": [
    "for sink_class in [NullFrameSink, NpzFrameSink, H5PyFrameSink, ZarrFrameSink, ZarrMTFrameSink]:\n",
    "\n",
    "    source = ZeroFrameSource(queue=q, dtype=DTYPE, shape=SHAPE, number=NUMBER)\n",
    "    sink = sink_class(queue=q, dtype=DTYPE, shape=SHAPE, number=NUMBER, outdir='/scratch/tguruswamy/out')\n",
    "\n",
    "    start_time = time.monotonic()\n",
    "\n",
    "    source.start()\n",
    "    sink.start()\n",
    "\n",
    "    source.join()\n",
    "    sink.join()\n",
    "\n",
    "    end_time = time.monotonic()\n",
    "\n",
    "    print(f\"{sink_class.__name__}: Time: {end_time - start_time}\")"
   ]
  }
 ],
 "metadata": {
  "kernelspec": {
   "display_name": "base",
   "language": "python",
   "name": "python3"
  },
  "language_info": {
   "codemirror_mode": {
    "name": "ipython",
    "version": 3
   },
   "file_extension": ".py",
   "mimetype": "text/x-python",
   "name": "python",
   "nbconvert_exporter": "python",
   "pygments_lexer": "ipython3",
   "version": "3.10.10"
  }
 },
 "nbformat": 4,
 "nbformat_minor": 2
}
