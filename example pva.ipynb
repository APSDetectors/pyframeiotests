{
 "cells": [
  {
   "cell_type": "code",
   "execution_count": null,
   "metadata": {},
   "outputs": [],
   "source": [
    "%load_ext autoreload\n",
    "%autoreload 2"
   ]
  },
  {
   "cell_type": "code",
   "execution_count": null,
   "metadata": {},
   "outputs": [],
   "source": [
    "import time\n",
    "from queue import Queue\n",
    "\n",
    "import numpy as np\n",
    "\n",
    "# Will work if PYTHONPATH includes \".\" (current directory)\n",
    "from pyframeiotests.framesinks import *\n",
    "from pyframeiotests.framesources import *"
   ]
  },
  {
   "cell_type": "code",
   "execution_count": null,
   "metadata": {},
   "outputs": [],
   "source": [
    "SHAPE = (1024, 1024)\n",
    "NUMBER = 500\n",
    "DTYPE = np.uint16\n",
    "\n",
    "q = Queue(maxsize=1000)"
   ]
  },
  {
   "cell_type": "code",
   "execution_count": null,
   "metadata": {},
   "outputs": [],
   "source": [
    "# Run in a terminal before executing the next cell: pvapy-ad-sim-server -nx 1024 -ny 1024 -dt uint16 -rt 30 -fps 1000 -cn 'pyframeiotest:image'"
   ]
  },
  {
   "cell_type": "code",
   "execution_count": null,
   "metadata": {},
   "outputs": [],
   "source": [
    "for sink_class in [NullFrameSink, NpzFrameSink, H5PyFrameSink, ZarrFrameSink, ZarrMTFrameSink]:\n",
    "\n",
    "    source = PvaPyFrameSource(queue=q, dtype=DTYPE, shape=SHAPE, number=NUMBER, channel='pyframeiotest:image')\n",
    "    sink = sink_class(queue=q, dtype=DTYPE, shape=SHAPE, number=NUMBER, outdir='/scratch/tguruswamy/out')\n",
    "\n",
    "    start_time = time.monotonic()\n",
    "\n",
    "    source.start()\n",
    "    sink.start()\n",
    "\n",
    "    source.join()\n",
    "    sink.join()\n",
    "\n",
    "    end_time = time.monotonic()\n",
    "\n",
    "    print(f\"{sink_class.__name__}: Time: {end_time - start_time}\")"
   ]
  }
 ],
 "metadata": {
  "kernelspec": {
   "display_name": "base",
   "language": "python",
   "name": "python3"
  },
  "language_info": {
   "codemirror_mode": {
    "name": "ipython",
    "version": 3
   },
   "file_extension": ".py",
   "mimetype": "text/x-python",
   "name": "python",
   "nbconvert_exporter": "python",
   "pygments_lexer": "ipython3",
   "version": "3.10.10"
  }
 },
 "nbformat": 4,
 "nbformat_minor": 2
}
